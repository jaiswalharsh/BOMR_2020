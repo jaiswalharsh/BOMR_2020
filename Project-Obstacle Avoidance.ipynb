{
 "cells": [
  {
   "cell_type": "markdown",
   "metadata": {},
   "source": [
    "## Python code"
   ]
  },
  {
   "cell_type": "markdown",
   "metadata": {},
   "source": [
    "### Imports"
   ]
  },
  {
   "cell_type": "code",
   "execution_count": 7,
   "metadata": {},
   "outputs": [],
   "source": [
    "import os\n",
    "import sys\n",
    "import time\n",
    "import serial\n",
    "import numpy as np\n",
    "\n",
    "# Adding the src folder in the current directory as it contains the script for Thymio and local occupancy\n",
    "sys.path.insert(0, os.path.join(os.getcwd(), 'src'))\n",
    "\n",
    "from Thymio import Thymio"
   ]
  },
  {
   "cell_type": "code",
   "execution_count": 8,
   "metadata": {},
   "outputs": [],
   "source": [
    "robot = Thymio.serial(port='COM3', refreshing_rate=0.1)"
   ]
  },
  {
   "cell_type": "markdown",
   "metadata": {},
   "source": [
    "### Accessible functions for the robot"
   ]
  },
  {
   "cell_type": "code",
   "execution_count": 9,
   "metadata": {},
   "outputs": [],
   "source": [
    "#dir(robot)"
   ]
  },
  {
   "cell_type": "markdown",
   "metadata": {},
   "source": [
    "### Read/Write variables"
   ]
  },
  {
   "cell_type": "code",
   "execution_count": 4,
   "metadata": {},
   "outputs": [
    {
     "name": "stdout",
     "output_type": "stream",
     "text": [
      "{'name': '_id', 'offset': 0, 'size': 1}\n",
      "{'name': 'event.source', 'offset': 1, 'size': 1}\n",
      "{'name': 'event.args', 'offset': 2, 'size': 32}\n",
      "{'name': '_fwversion', 'offset': 34, 'size': 2}\n",
      "{'name': '_productId', 'offset': 36, 'size': 1}\n",
      "{'name': 'buttons._raw', 'offset': 37, 'size': 5}\n",
      "{'name': 'button.backward', 'offset': 42, 'size': 1}\n",
      "{'name': 'button.left', 'offset': 43, 'size': 1}\n",
      "{'name': 'button.center', 'offset': 44, 'size': 1}\n",
      "{'name': 'button.forward', 'offset': 45, 'size': 1}\n",
      "{'name': 'button.right', 'offset': 46, 'size': 1}\n",
      "{'name': 'buttons._mean', 'offset': 47, 'size': 5}\n",
      "{'name': 'buttons._noise', 'offset': 52, 'size': 5}\n",
      "{'name': 'prox.horizontal', 'offset': 57, 'size': 7}\n",
      "{'name': 'prox.comm.rx._payloads', 'offset': 64, 'size': 7}\n",
      "{'name': 'prox.comm.rx._intensities', 'offset': 71, 'size': 7}\n",
      "{'name': 'prox.comm.rx', 'offset': 78, 'size': 1}\n",
      "{'name': 'prox.comm.tx', 'offset': 79, 'size': 1}\n",
      "{'name': 'prox.ground.ambiant', 'offset': 80, 'size': 2}\n",
      "{'name': 'prox.ground.reflected', 'offset': 82, 'size': 2}\n",
      "{'name': 'prox.ground.delta', 'offset': 84, 'size': 2}\n",
      "{'name': 'motor.left.target', 'offset': 86, 'size': 1}\n",
      "{'name': 'motor.right.target', 'offset': 87, 'size': 1}\n",
      "{'name': '_vbat', 'offset': 88, 'size': 2}\n",
      "{'name': '_imot', 'offset': 90, 'size': 2}\n",
      "{'name': 'motor.left.speed', 'offset': 92, 'size': 1}\n",
      "{'name': 'motor.right.speed', 'offset': 93, 'size': 1}\n",
      "{'name': 'motor.left.pwm', 'offset': 94, 'size': 1}\n",
      "{'name': 'motor.right.pwm', 'offset': 95, 'size': 1}\n"
     ]
    }
   ],
   "source": [
    "#variables = robot.variable_description()\n",
    "#for var in variables :\n",
    "#    print(var)"
   ]
  },
  {
   "cell_type": "markdown",
   "metadata": {},
   "source": [
    "### Variables globales"
   ]
  },
  {
   "cell_type": "code",
   "execution_count": 10,
   "metadata": {},
   "outputs": [],
   "source": [
    "PROXIMITY_THRESHOLD = 3800 #around 2cm\n",
    "TIME_SLEEP_OBSTACLE = 0.1 #in seconds\n",
    "TIME_SLEEP_DATA = 0.5 # 0.2 = 5Hz frequency\n",
    "MOTOR_SPEED = 80 #both motor are set with this value (one in each direction)\n",
    "\n",
    "SENSOR_0 = 0\n",
    "SENSOR_1 = 1\n",
    "SENSOR_2 = 2\n",
    "SENSOR_3 = 3\n",
    "SENSOR_4 = 4\n",
    "SENSOR_5 = 5\n",
    "SENSOR_6 = 6\n",
    "ALL_FRONT_SENSOR = 5\n",
    "PARTIALY_ALL_FRONT_SENSOR = 4\n",
    "follow_obstacle = 0\n",
    "COMPTEUR = 6\n",
    "iteration = 0"
   ]
  },
  {
   "cell_type": "markdown",
   "metadata": {},
   "source": [
    "### Main function "
   ]
  },
  {
   "cell_type": "code",
   "execution_count": 17,
   "metadata": {},
   "outputs": [
    {
     "name": "stdout",
     "output_type": "stream",
     "text": [
      "1\n",
      "[3081, 0, 0, 0, 0, 0, 0]\n",
      "1\n",
      "[2934, 0, 0, 0, 0, 0, 0]\n",
      "1\n",
      "[1533, 0, 0, 0, 0, 0, 0]\n",
      "1\n",
      "[0, 0, 0, 0, 0, 0, 0]\n",
      "1\n",
      "[0, 0, 0, 0, 0, 0, 0]\n",
      "1\n",
      "[0, 0, 0, 0, 0, 0, 0]\n",
      "1\n",
      "[0, 0, 0, 0, 0, 0, 0]\n",
      "1\n",
      "[0, 0, 0, 0, 0, 0, 0]\n",
      "1\n",
      "[0, 0, 0, 0, 0, 0, 0]\n",
      "0\n",
      "[0, 0, 0, 0, 0, 0, 0]\n",
      "0\n",
      "[0, 0, 0, 0, 0, 0, 0]\n",
      "0\n",
      "[0, 0, 0, 0, 0, 0, 0]\n",
      "0\n",
      "[0, 0, 0, 0, 0, 0, 0]\n",
      "0\n",
      "[0, 0, 0, 0, 0, 0, 0]\n",
      "0\n",
      "[2827, 0, 0, 0, 0, 0, 0]\n",
      "1\n",
      "[4659, 0, 0, 0, 0, 0, 0]\n",
      "1\n",
      "[0, 0, 0, 0, 0, 0, 0]\n",
      "1\n",
      "[0, 0, 0, 0, 0, 0, 0]\n",
      "1\n",
      "[0, 0, 0, 0, 0, 0, 0]\n",
      "1\n",
      "[0, 0, 0, 0, 0, 0, 0]\n",
      "1\n",
      "[0, 0, 0, 0, 0, 0, 0]\n",
      "1\n",
      "[0, 0, 0, 0, 0, 0, 0]\n",
      "0\n",
      "[0, 0, 0, 0, 0, 0, 0]\n",
      "0\n",
      "[0, 0, 0, 0, 0, 0, 0]\n",
      "0\n",
      "[0, 0, 0, 0, 0, 0, 0]\n",
      "0\n",
      "[0, 0, 0, 0, 0, 0, 0]\n",
      "0\n",
      "[0, 0, 0, 0, 0, 0, 0]\n",
      "0\n",
      "[4577, 0, 0, 0, 0, 0, 0]\n",
      "1\n",
      "[0, 0, 0, 0, 0, 0, 0]\n",
      "1\n",
      "[0, 0, 0, 0, 0, 0, 0]\n",
      "1\n",
      "[0, 0, 0, 0, 0, 0, 0]\n",
      "1\n",
      "[0, 0, 0, 0, 0, 0, 0]\n",
      "1\n",
      "[0, 0, 0, 0, 0, 0, 0]\n",
      "1\n",
      "[0, 0, 0, 0, 0, 0, 0]\n",
      "0\n",
      "[0, 0, 0, 0, 0, 0, 0]\n",
      "0\n",
      "[0, 0, 0, 0, 0, 0, 0]\n",
      "0\n",
      "[0, 0, 0, 0, 0, 0, 0]\n",
      "0\n",
      "[0, 0, 0, 0, 0, 0, 0]\n",
      "0\n",
      "[0, 0, 0, 0, 0, 0, 0]\n",
      "0\n",
      "[0, 0, 0, 0, 0, 0, 0]\n",
      "0\n",
      "[0, 0, 0, 0, 0, 0, 0]\n",
      "0\n",
      "[0, 0, 0, 0, 0, 0, 0]\n",
      "0\n",
      "[0, 0, 0, 0, 0, 0, 0]\n",
      "0\n",
      "[0, 0, 0, 0, 0, 0, 0]\n",
      "0\n",
      "[0, 0, 0, 0, 0, 0, 0]\n",
      "0\n",
      "[0, 0, 0, 0, 0, 0, 0]\n",
      "0\n",
      "[0, 0, 0, 0, 0, 0, 0]\n",
      "0\n",
      "[0, 0, 0, 0, 0, 0, 0]\n"
     ]
    },
    {
     "ename": "KeyboardInterrupt",
     "evalue": "",
     "output_type": "error",
     "traceback": [
      "\u001b[1;31m---------------------------------------------------------------------------\u001b[0m",
      "\u001b[1;31mKeyboardInterrupt\u001b[0m                         Traceback (most recent call last)",
      "\u001b[1;32m<ipython-input-17-6daf70b6d31c>\u001b[0m in \u001b[0;36m<module>\u001b[1;34m\u001b[0m\n\u001b[0;32m     51\u001b[0m             \u001b[0mfollow_obstacle\u001b[0m \u001b[1;33m=\u001b[0m \u001b[1;36m0\u001b[0m\u001b[1;33m\u001b[0m\u001b[1;33m\u001b[0m\u001b[0m\n\u001b[0;32m     52\u001b[0m \u001b[1;33m\u001b[0m\u001b[0m\n\u001b[1;32m---> 53\u001b[1;33m     \u001b[0mtime\u001b[0m\u001b[1;33m.\u001b[0m\u001b[0msleep\u001b[0m\u001b[1;33m(\u001b[0m\u001b[0mTIME_SLEEP_DATA\u001b[0m\u001b[1;33m)\u001b[0m\u001b[1;33m\u001b[0m\u001b[1;33m\u001b[0m\u001b[0m\n\u001b[0m",
      "\u001b[1;31mKeyboardInterrupt\u001b[0m: "
     ]
    }
   ],
   "source": [
    "for i in range(1000000): #simulation of big while loop\n",
    "    print (follow_obstacle)\n",
    "    \n",
    "    if follow_obstacle == 1 :\n",
    "        robot.set_var(\"motor.left.target\", MOTOR_SPEED)        #TO REMOVE\n",
    "        robot.set_var(\"motor.right.target\", MOTOR_SPEED)       #TO REMOVE\n",
    "    else :\n",
    "        \n",
    "        robot.set_var(\"motor.left.target\", 2**16 - MOTOR_SPEED)        #TO REMOVE\n",
    "        robot.set_var(\"motor.right.target\", MOTOR_SPEED)               #TO REMOVE\n",
    "    \n",
    "    sensor_measurment = robot[\"prox.horizontal\"]\n",
    "    print(sensor_measurment)\n",
    "    \n",
    "    if np.all(np.less(sensor_measurment, PROXIMITY_THRESHOLD)):\n",
    "        pass\n",
    "    else:\n",
    "        obstacle_direction = np.nonzero(sensor_measurment)[0]\n",
    "        #print(obstacle_direction)\n",
    "        while((np.any(np.greater(sensor_measurment, PROXIMITY_THRESHOLD)))and(np.all(np.not_equal(obstacle_direction, SENSOR_5)))and(np.all(np.not_equal(obstacle_direction, SENSOR_6)))):\n",
    "            #robot.set_var('leds.top', 123)\n",
    "            if(np.shape(obstacle_direction)[0] == ALL_FRONT_SENSOR)or(np.shape(obstacle_direction)[0] == PARTIALY_ALL_FRONT_SENSOR):\n",
    "                if(sensor_measurment[SENSOR_1]>sensor_measurment[SENSOR_3]):\n",
    "                    robot.set_var(\"motor.left.target\", MOTOR_SPEED)\n",
    "                    robot.set_var(\"motor.right.target\", 2**16-MOTOR_SPEED)\n",
    "                else:\n",
    "                    robot.set_var(\"motor.left.target\", 2**16-MOTOR_SPEED)\n",
    "                    robot.set_var(\"motor.right.target\", MOTOR_SPEED)\n",
    "            else:\n",
    "                if (np.any(np.equal(obstacle_direction,SENSOR_0)))or(np.any(np.equal(obstacle_direction,SENSOR_1))):\n",
    "                    robot.set_var(\"motor.left.target\", MOTOR_SPEED)\n",
    "                    robot.set_var(\"motor.right.target\", 2**16-MOTOR_SPEED)\n",
    "                elif (np.any(np.equal(obstacle_direction,SENSOR_3)))or(np.any(np.equal(obstacle_direction,SENSOR_4))):\n",
    "                    robot.set_var(\"motor.left.target\", 2**16-MOTOR_SPEED)\n",
    "                    robot.set_var(\"motor.right.target\", MOTOR_SPEED)\n",
    "                elif (np.any(np.equal(obstacle_direction,SENSOR_2))):\n",
    "                    robot.set_var(\"motor.left.target\", 2**16-MOTOR_SPEED)\n",
    "                    robot.set_var(\"motor.right.target\", MOTOR_SPEED)\n",
    "        \n",
    "            time.sleep(TIME_SLEEP_OBSTACLE)\n",
    "            \n",
    "            sensor_measurment = robot[\"prox.horizontal\"]\n",
    "            obstacle_direction = np.nonzero(sensor_measurment)[0]\n",
    "            \n",
    "    if (sensor_measurment[0] > 1000) or (sensor_measurment[4] > 1000) :\n",
    "        follow_obstacle = 1\n",
    "        iteration = 0\n",
    "    else : \n",
    "        iteration = iteration + 1\n",
    "        if iteration == COMPTEUR :\n",
    "            follow_obstacle = 0\n",
    "        \n",
    "    time.sleep(TIME_SLEEP_DATA)"
   ]
  },
  {
   "cell_type": "markdown",
   "metadata": {},
   "source": [
    "### Tests"
   ]
  },
  {
   "cell_type": "markdown",
   "metadata": {},
   "source": [
    "ANN"
   ]
  },
  {
   "cell_type": "code",
   "execution_count": null,
   "metadata": {},
   "outputs": [],
   "source": [
    "WEIGHT_L=[40,25,-20,-25,-40, 0,0] #sensor_5 = 30 ; sensor_6 = -10 (here = 0 beacause of the cable)\n",
    "WEIGHT_R=[-40,-25,-20,25,40, 0,0] #sensor_5 = -10 ; sensor_6 = 30 (here = 0 beacause of the cable)\n",
    "\n",
    "SENSOR_SCALE = 4000 #used for rescaling the data send by the sensor to give it to the motors\n",
    "THRESHOLD = 20\n",
    "MOTOR_SPEED = 80 #both motor are set with this value (one in each direction)\n",
    "\n",
    "for i in range(10000000): #simulation of big while loop \n",
    "    \n",
    "    robot.set_var(\"motor.left.target\", int(2**16) - MOTOR_SPEED)        #TO REMOVE\n",
    "    robot.set_var(\"motor.right.target\", MOTOR_SPEED)       #TO REMOVE\n",
    "    \n",
    "    sensor_measurment = robot[\"prox.horizontal\"]\n",
    "    #print(sensor_measurment)\n",
    "    \n",
    "    measurement_rescaled = np.divide(sensor_measurment, SENSOR_SCALE)\n",
    "    #print(measurement_rescaled)\n",
    "    weighted_measurment_l = np.multiply(measurement_rescaled, WEIGHT_L)\n",
    "    #print(weighted_measurment_l)\n",
    "    weighted_measurment_r = np.multiply(measurement_rescaled, WEIGHT_R)\n",
    "    #print(weighted_measurment_r)\n",
    "\n",
    "    motor_speed_l = np.sum(weighted_measurment_l)\n",
    "    motor_speed_r = np.sum(weighted_measurment_r)\n",
    "\n",
    "    #print(motor_speed_l)\n",
    "    #print(motor_speed_r)\n",
    "    \n",
    "    if np.any(np.greater(motor_speed_l, THRESHOLD)) or np.any(np.greater(motor_speed_r, THRESHOLD)) or np.any(np.less(motor_speed_l, -THRESHOLD)) or np.any(np.less(motor_speed_r, -THRESHOLD)):       \n",
    "        \n",
    "        obstacle_direction = np.nonzero(sensor_measurment)[0]\n",
    "        \n",
    "        if (np.any(np.equal(obstacle_direction,SENSOR_2))) and (np.shape(obstacle_direction)[0]==1):\n",
    "                    robot.set_var(\"motor.left.target\", 2**16-MOTOR_SPEED)\n",
    "                    robot.set_var(\"motor.right.target\", MOTOR_SPEED)\n",
    "        else :\n",
    "            if motor_speed_l<0:\n",
    "                #print(2**16 + int(motor_speed_l))\n",
    "                robot.set_var(\"motor.left.target\", int(2**16) + int(motor_speed_l)-1)\n",
    "            else :\n",
    "                robot.set_var(\"motor.left.target\", int(motor_speed_l))\n",
    "\n",
    "            if motor_speed_r<0:\n",
    "                #print(2**16 + int(motor_speed_r))\n",
    "                robot.set_var(\"motor.right.target\", int(2**16) + int(motor_speed_r)-1)\n",
    "            else :\n",
    "                robot.set_var(\"motor.right.target\", int(motor_speed_r))\n",
    "        \n",
    "        \n",
    "        \"\"\"\n",
    "        robot.set_var(\"motor.left.target\", 0)\n",
    "        robot.set_var(\"motor.right.target\", 0)\n",
    "        \n",
    "        robot.set_var(\"motor.left.target\", 2**16-motor_speed_l)\n",
    "        robot.set_var(\"motor.right.target\", 2**16-motor_speed_r)\n",
    "        \"\"\"\n",
    "    \n",
    "    time.sleep(TIME_SLEEP_OBSTACLE)\n",
    "\n",
    "    "
   ]
  },
  {
   "cell_type": "markdown",
   "metadata": {},
   "source": [
    "If/elif"
   ]
  },
  {
   "cell_type": "code",
   "execution_count": null,
   "metadata": {},
   "outputs": [],
   "source": [
    "for i in range(1000000): #simulation of big while loop\n",
    "    robot.set_var(\"motor.left.target\", MOTOR_SPEED)        #TO REMOVE\n",
    "    robot.set_var(\"motor.right.target\", MOTOR_SPEED)       #TO REMOVE\n",
    "    \n",
    "    sensor_measurment = robot[\"prox.horizontal\"]\n",
    "    print(sensor_measurment)                               #TO REMOVE\n",
    "    \n",
    "    if np.all(np.less(sensor_measurment, PROXIMITY_THRESHOLD)):\n",
    "        pass\n",
    "        #break ?\n",
    "    else:\n",
    "        obstacle_direction = np.nonzero(sensor_measurment)[0]\n",
    "        \n",
    "        while((np.any(np.greater(sensor_measurment, PROXIMITY_THRESHOLD)))and(np.all(np.not_equal(obstacle_direction, SENSOR_5)))and(np.all(np.not_equal(obstacle_direction, SENSOR_6)))):\n",
    "            if(np.shape(obstacle_direction)[0] == ALL_FRONT_SENSOR)or(np.shape(obstacle_direction)[0] == PARTIALY_ALL_FRONT_SENSOR):\n",
    "                if(sensor_measurment[SENSOR_1]>sensor_measurment[SENSOR_3]):\n",
    "                    robot.set_var(\"motor.left.target\", MOTOR_SPEED)\n",
    "                    robot.set_var(\"motor.right.target\", 2**16-MOTOR_SPEED)\n",
    "                else:\n",
    "                    robot.set_var(\"motor.left.target\", 2**16-MOTOR_SPEED)\n",
    "                    robot.set_var(\"motor.right.target\", MOTOR_SPEED)\n",
    "            \n",
    "            else:\n",
    "                if (np.any(np.equal(obstacle_direction,SENSOR_0)))or(np.any(np.equal(obstacle_direction,SENSOR_1))):\n",
    "                    robot.set_var(\"motor.left.target\", MOTOR_SPEED)\n",
    "                    robot.set_var(\"motor.right.target\", 2**16-MOTOR_SPEED)\n",
    "                elif (np.any(np.equal(obstacle_direction,SENSOR_3)))or(np.any(np.equal(obstacle_direction,SENSOR_4))):\n",
    "                    robot.set_var(\"motor.left.target\", 2**16-MOTOR_SPEED)\n",
    "                    robot.set_var(\"motor.right.target\", MOTOR_SPEED)\n",
    "                elif (np.any(np.equal(obstacle_direction,SENSOR_2))):\n",
    "                    robot.set_var(\"motor.left.target\", 2**16-MOTOR_SPEED)\n",
    "                    robot.set_var(\"motor.right.target\", MOTOR_SPEED)\n",
    "        \n",
    "            print(sensor_measurment)                      #TO REMOVE\n",
    "            time.sleep(TIME_SLEEP_OBSTACLE)\n",
    "            \n",
    "            sensor_measurment = robot[\"prox.horizontal\"]\n",
    "            obstacle_direction = np.nonzero(sensor_measurment)[0]\n",
    "        \n",
    "    time.sleep(TIME_SLEEP_DATA)\n",
    "robot.set_var(\"motor.left.target\", MOTOR_SPEED)   #TO REMOVE\n",
    "robot.set_var(\"motor.right.target\", MOTOR_SPEED)  #TO REMOVE"
   ]
  },
  {
   "cell_type": "code",
   "execution_count": 18,
   "metadata": {},
   "outputs": [
    {
     "name": "stdout",
     "output_type": "stream",
     "text": [
      "[0, 0, 0, 0, 0, 0, 0]\n",
      "[]\n",
      "False\n",
      "False\n",
      "True\n",
      "True\n",
      "True\n",
      "False\n"
     ]
    }
   ],
   "source": [
    "sensor_measurment = robot[\"prox.horizontal\"]\n",
    "obstacle_direction = np.nonzero(sensor_measurment)[0]\n",
    "\n",
    "print(sensor_measurment)\n",
    "print(obstacle_direction)\n",
    "#print(np.argmax(sensor_measurment))\n",
    "print((np.shape(obstacle_direction)[0] == 1) and (np.any(np.equal(obstacle_direction,SENSOR_0)) or np.any(np.equal(obstacle_direction,SENSOR_4))))\n",
    "print(np.any(np.greater(sensor_measurment, PROXIMITY_THRESHOLD)))\n",
    "print(np.all(np.not_equal(obstacle_direction, SENSOR_5)))\n",
    "print(np.all(np.not_equal(obstacle_direction, SENSOR_6)))\n",
    "print(np.all(np.less(sensor_measurment, PROXIMITY_THRESHOLD)))\n",
    "print(np.any(np.equal(obstacle_direction,SENSOR_2)))\n",
    "\n",
    "#robot.set_var(\"motor.left.target\", 50)\n",
    "#robot.set_var(\"motor.right.target\", 2**16-50)\n",
    "#time.sleep(1.1)\n",
    "robot.set_var(\"motor.left.target\", 0)\n",
    "robot.set_var(\"motor.right.target\", 0)"
   ]
  },
  {
   "cell_type": "markdown",
   "metadata": {},
   "source": [
    "### Bugs to fix"
   ]
  },
  {
   "cell_type": "markdown",
   "metadata": {},
   "source": [
    "1) if the robot meet a v shape obstacle  \n",
    "2) if the robot has an obstacle in front of sensor n°2 it can turns and then sense the obstacle on the 3th, it turns backwards --> wait a bit more in the case of detection on the sensor 2 ?"
   ]
  },
  {
   "cell_type": "code",
   "execution_count": null,
   "metadata": {},
   "outputs": [],
   "source": []
  }
 ],
 "metadata": {
  "kernelspec": {
   "display_name": "Python 3",
   "language": "python",
   "name": "python3"
  },
  "language_info": {
   "codemirror_mode": {
    "name": "ipython",
    "version": 3
   },
   "file_extension": ".py",
   "mimetype": "text/x-python",
   "name": "python",
   "nbconvert_exporter": "python",
   "pygments_lexer": "ipython3",
   "version": "3.8.3"
  }
 },
 "nbformat": 4,
 "nbformat_minor": 4
}

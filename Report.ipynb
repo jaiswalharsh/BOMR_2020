{
 "cells": [
  {
   "cell_type": "markdown",
   "metadata": {},
   "source": [
    "# Project Mobile Robot"
   ]
  },
  {
   "cell_type": "markdown",
   "metadata": {},
   "source": [
    "(Prof. Francesco Mondada)"
   ]
  },
  {
   "cell_type": "markdown",
   "metadata": {},
   "source": [
    "Students :  \n",
    "Roxane Pangaud, Sélim Kamal, Yann Boudigou, Harsh Jaiswal"
   ]
  },
  {
   "cell_type": "markdown",
   "metadata": {},
   "source": [
    "## Introduction"
   ]
  },
  {
   "cell_type": "markdown",
   "metadata": {},
   "source": [
    "Our environment is an open space (white is preferred) on which we add black obstacle of random shapes. We founded more intresting to work with random obstacle than already define one (squares for exemple). "
   ]
  },
  {
   "cell_type": "markdown",
   "metadata": {},
   "source": [
    "We then use vision to transform the real map in a grid map. We chose to divide the space (150cm x 150cm) by 50x50 in squares, based on the pixels of an image taken by a smartphone. So in the end the space is divided in small squares of 3cm by 3cm.\n",
    "\n",
    "We also use the vision to find the coordinates of the Thymio and the goal, as well as the angle of the robot."
   ]
  },
  {
   "cell_type": "markdown",
   "metadata": {},
   "source": [
    "After that, we use A* algorithm to find a path between the \"start\" (Thymio) and the \"goal\" (a target green and yellow)."
   ]
  },
  {
   "cell_type": "markdown",
   "metadata": {},
   "source": [
    "Finally we use odometry and local avoidance in order for the Thymio to navigate in the environment. We sometimes check the position of the Thymio with the camera. And since we check in the camera sometimes, we can change the goal position if the robot isn't too close to finish it's run!"
   ]
  },
  {
   "cell_type": "markdown",
   "metadata": {},
   "source": [
    "## Vision"
   ]
  },
  {
   "cell_type": "markdown",
   "metadata": {},
   "source": [
    "*Yann ? Harsh?*"
   ]
  },
  {
   "cell_type": "markdown",
   "metadata": {},
   "source": [
    "## Filtering"
   ]
  },
  {
   "cell_type": "markdown",
   "metadata": {},
   "source": [
    "*Yann ? Harsh?*"
   ]
  },
  {
   "cell_type": "markdown",
   "metadata": {},
   "source": [
    "## Global Navigation"
   ]
  },
  {
   "cell_type": "markdown",
   "metadata": {},
   "source": [
    "*Sélim ?*"
   ]
  },
  {
   "cell_type": "markdown",
   "metadata": {},
   "source": [
    "## Motion Contol"
   ]
  },
  {
   "cell_type": "markdown",
   "metadata": {},
   "source": [
    "For the motion control, we got inspired by the odometry done in the 6th exercise session. We first calibrate the Thymio, to understand what time it needed for turning 360 degrees. We tried to turn the Thymio and stoped at 340°, we then measured the time. With those data, we used rule of tree and tried to turn the Thymio in different angle. After some time tunning, it was good enough for our application. \n",
    "\n",
    "After that, we did the same for the robot's advance by measuring how much it advances for a certain amount of time.\n",
    "\n",
    "Here are the global variable used for odometry and more generally the motion:"
   ]
  },
  {
   "cell_type": "code",
   "execution_count": 1,
   "metadata": {},
   "outputs": [
    {
     "ename": "NameError",
     "evalue": "name 'MAP_SIZE' is not defined",
     "output_type": "error",
     "traceback": [
      "\u001b[1;31m---------------------------------------------------------------------------\u001b[0m",
      "\u001b[1;31mNameError\u001b[0m                                 Traceback (most recent call last)",
      "\u001b[1;32m<ipython-input-1-abf300c0932d>\u001b[0m in \u001b[0;36m<module>\u001b[1;34m\u001b[0m\n\u001b[0;32m      6\u001b[0m \u001b[1;33m\u001b[0m\u001b[0m\n\u001b[0;32m      7\u001b[0m \u001b[1;31m## Global variable\u001b[0m\u001b[1;33m\u001b[0m\u001b[1;33m\u001b[0m\u001b[1;33m\u001b[0m\u001b[0m\n\u001b[1;32m----> 8\u001b[1;33m \u001b[0mCOTE_CARRE_MAP\u001b[0m \u001b[1;33m=\u001b[0m \u001b[1;36m150\u001b[0m \u001b[1;33m/\u001b[0m \u001b[0mMAP_SIZE\u001b[0m  \u001b[1;31m# MAP_SIZE = nb of squares in the rows or colomns (it's a squered map)\u001b[0m\u001b[1;33m\u001b[0m\u001b[1;33m\u001b[0m\u001b[0m\n\u001b[0m",
      "\u001b[1;31mNameError\u001b[0m: name 'MAP_SIZE' is not defined"
     ]
    }
   ],
   "source": [
    "## Global Variable for odometry\n",
    "CALIBRATION_TIME_ANGLE = 9.6\n",
    "CALIBRATION_ANGLE = 340\n",
    "CALIBRATION_TIME = 3.47 # time needed to do the DISTANCE_CALLIBRATION\n",
    "DISTANCE_CALIBRATION = 10.7\n",
    "\n",
    "## Global variable for motion\n",
    "COTE_CARRE_MAP = 150 / MAP_SIZE  # MAP_SIZE = 50, the nb of squares in the rows or colomns (it's a squared map) of the map"
   ]
  },
  {
   "cell_type": "markdown",
   "metadata": {},
   "source": [
    "With this done, we created a function called \"robot_evaluation\" that need the position and the angle of the robot, as well as the position of the curent target and it returns *gamma*, the angle that the robot must turn to be aligned with the target in degrees, *direction* (\"left\",\"right\" or \"forward\"), which indicate wich direction to turn and *distance*, the distance between the Thymio and the target (in cm). To calculate all of this, we use trigonometry for the different cases of relative positions between the Thymio and the target."
   ]
  },
  {
   "cell_type": "markdown",
   "metadata": {},
   "source": [
    "After that, we have all what we need to make the robot move. We implemented then 2 functions in order to move the Thymio: \"robot_turn\" and \"robot_move_forward\". The first one takes *gamma*, *direction* and the angle of the robot (*alpha*) and moves it in the direction and the angle (*gamma*) desired, then it changes alpha, regarding of how much it thinks the Thymio has moved (*gamma*) and the direction to \"forward\" since we now are . The second one makes the Thymio move forward. The function takes *distance* and the curent position of the robot and the target, and then move the robot forward by *distance* centimeters. Then it updates the position of the Thymio by saying that it is now on the target (target position = robot position)."
   ]
  },
  {
   "cell_type": "code",
   "execution_count": null,
   "metadata": {},
   "outputs": [],
   "source": [
    "def robot_turn(gamma, direction,alpha): #return alpha, direction, obstacle_seen (bool: 0->free)\n",
    "    gamma = abs(gamma)\n",
    "    time_turn = CALIBRATION_TIME_ANGLE*gamma/CALIBRATION_ANGLE\n",
    "    obstacle_seen = 0\n",
    "    \n",
    "    if direction == \"right\":\n",
    "        robot.set_var(\"motor.left.target\", MOTOR_SPEED)\n",
    "        robot.set_var(\"motor.right.target\", int(int(2**16)-MOTOR_SPEED))\n",
    "        t0 =time.time()\n",
    "        while time.time()-t0 < time_turn :\n",
    "            if (check_avoidance()) :\n",
    "                obstacle_seen = 1\n",
    "                avoid_obstacle()\n",
    "                return alpha, direction, obstacle_seen\n",
    "        \n",
    "        alpha = angle_between_pi(alpha-math.radians(gamma))\n",
    "        \n",
    "    if direction == \"left\":\n",
    "        robot.set_var(\"motor.left.target\", int(int(2**16)-MOTOR_SPEED))\n",
    "        robot.set_var(\"motor.right.target\", MOTOR_SPEED)\n",
    "        t0 =time.time()\n",
    "        while time.time()-t0 < time_turn :\n",
    "            if (check_avoidance()) :\n",
    "                obstacle_seen = 1\n",
    "                avoid_obstacle()\n",
    "                return alpha, direction, obstacle_seen\n",
    "        \n",
    "        alpha = angle_between_pi(alpha+math.radians(gamma))\n",
    "    \n",
    "    direction = \"forward\"\n",
    "    \n",
    "    robot_stop()\n",
    "    \n",
    "    return alpha, direction, obstacle_seen"
   ]
  },
  {
   "cell_type": "markdown",
   "metadata": {},
   "source": [
    "## Local navigation "
   ]
  },
  {
   "cell_type": "markdown",
   "metadata": {},
   "source": [
    "Local navigation is mainly about "
   ]
  }
 ],
 "metadata": {
  "kernelspec": {
   "display_name": "Python 3",
   "language": "python",
   "name": "python3"
  },
  "language_info": {
   "codemirror_mode": {
    "name": "ipython",
    "version": 3
   },
   "file_extension": ".py",
   "mimetype": "text/x-python",
   "name": "python",
   "nbconvert_exporter": "python",
   "pygments_lexer": "ipython3",
   "version": "3.8.3"
  }
 },
 "nbformat": 4,
 "nbformat_minor": 4
}

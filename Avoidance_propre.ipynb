{
 "cells": [
  {
   "cell_type": "markdown",
   "metadata": {},
   "source": [
    "# Python code"
   ]
  },
  {
   "cell_type": "markdown",
   "metadata": {},
   "source": [
    "## Imports"
   ]
  },
  {
   "cell_type": "code",
   "execution_count": 67,
   "metadata": {},
   "outputs": [],
   "source": [
    "import os\n",
    "import sys\n",
    "import time\n",
    "import serial\n",
    "import numpy as np\n",
    "\n",
    "# Adding the src folder in the current directory as it contains the script for Thymio and local occupancy\n",
    "sys.path.insert(0, os.path.join(os.getcwd(), 'src'))\n",
    "\n",
    "from Thymio import Thymio"
   ]
  },
  {
   "cell_type": "code",
   "execution_count": 68,
   "metadata": {},
   "outputs": [],
   "source": [
    "robot = Thymio.serial(port='COM3', refreshing_rate=0.1)"
   ]
  },
  {
   "cell_type": "markdown",
   "metadata": {},
   "source": [
    "## Variables globales"
   ]
  },
  {
   "cell_type": "code",
   "execution_count": 69,
   "metadata": {},
   "outputs": [],
   "source": [
    "PROXIMITY_THRESHOLD = 3800 #around 2cm\n",
    "TIME_SLEEP_OBSTACLE = 0.1 #in seconds\n",
    "TIME_SLEEP_DATA = 0.5 # 0.2 = 5Hz frequency\n",
    "MOTOR_SPEED = 80 #both motor are set with this value (one in each direction)\n",
    "\n",
    "SENSOR_0 = 0\n",
    "SENSOR_1 = 1\n",
    "SENSOR_2 = 2\n",
    "SENSOR_3 = 3\n",
    "SENSOR_4 = 4\n",
    "SENSOR_5 = 5\n",
    "SENSOR_6 = 6\n",
    "ALL_FRONT_SENSOR = 5\n",
    "PARTIALY_ALL_FRONT_SENSOR = 4\n",
    "follow_obstacle = 0\n",
    "COMPTEUR = 6\n",
    "iteration = 0"
   ]
  },
  {
   "cell_type": "markdown",
   "metadata": {},
   "source": [
    "## Main function"
   ]
  },
  {
   "cell_type": "code",
   "execution_count": 70,
   "metadata": {},
   "outputs": [
    {
     "ename": "KeyboardInterrupt",
     "evalue": "",
     "output_type": "error",
     "traceback": [
      "\u001b[1;31m---------------------------------------------------------------------------\u001b[0m",
      "\u001b[1;31mKeyboardInterrupt\u001b[0m                         Traceback (most recent call last)",
      "\u001b[1;32m<ipython-input-70-5ec557afffe8>\u001b[0m in \u001b[0;36m<module>\u001b[1;34m\u001b[0m\n\u001b[0;32m     49\u001b[0m         \"\"\"\n\u001b[0;32m     50\u001b[0m \u001b[1;33m\u001b[0m\u001b[0m\n\u001b[1;32m---> 51\u001b[1;33m     \u001b[0mtime\u001b[0m\u001b[1;33m.\u001b[0m\u001b[0msleep\u001b[0m\u001b[1;33m(\u001b[0m\u001b[0mTIME_SLEEP_OBSTACLE\u001b[0m\u001b[1;33m)\u001b[0m\u001b[1;33m\u001b[0m\u001b[1;33m\u001b[0m\u001b[0m\n\u001b[0m",
      "\u001b[1;31mKeyboardInterrupt\u001b[0m: "
     ]
    }
   ],
   "source": [
    "for i in range(1000000): #simulation of big while loop\n",
    "    print (follow_obstacle)\n",
    "    \n",
    "    if follow_obstacle == 1 :\n",
    "        robot.set_var(\"motor.left.target\", MOTOR_SPEED)        #TO REMOVE\n",
    "        robot.set_var(\"motor.right.target\", MOTOR_SPEED)       #TO REMOVE\n",
    "    else :\n",
    "        \n",
    "        robot.set_var(\"motor.left.target\", 2**16 - MOTOR_SPEED)        #TO REMOVE\n",
    "        robot.set_var(\"motor.right.target\", MOTOR_SPEED)               #TO REMOVE\n",
    "    \n",
    "    sensor_measurment = robot[\"prox.horizontal\"]\n",
    "    print(sensor_measurment)\n",
    "    \n",
    "    if np.all(np.less(sensor_measurment, PROXIMITY_THRESHOLD)):\n",
    "        pass\n",
    "    else:\n",
    "        obstacle_direction = np.nonzero(sensor_measurment)[0]\n",
    "        #print(obstacle_direction)\n",
    "        while((np.any(np.greater(sensor_measurment, PROXIMITY_THRESHOLD)))and(np.all(np.not_equal(obstacle_direction, SENSOR_5)))and(np.all(np.not_equal(obstacle_direction, SENSOR_6)))):\n",
    "            #robot.set_var('leds.top', 123)\n",
    "            if(np.shape(obstacle_direction)[0] == ALL_FRONT_SENSOR)or(np.shape(obstacle_direction)[0] == PARTIALY_ALL_FRONT_SENSOR):\n",
    "                if(sensor_measurment[SENSOR_1]>sensor_measurment[SENSOR_3]):\n",
    "                    robot.set_var(\"motor.left.target\", MOTOR_SPEED)\n",
    "                    robot.set_var(\"motor.right.target\", 2**16-MOTOR_SPEED)\n",
    "                else:\n",
    "                    robot.set_var(\"motor.left.target\", 2**16-MOTOR_SPEED)\n",
    "                    robot.set_var(\"motor.right.target\", MOTOR_SPEED)\n",
    "            else:\n",
    "                if (np.any(np.equal(obstacle_direction,SENSOR_0)))or(np.any(np.equal(obstacle_direction,SENSOR_1))):\n",
    "                    robot.set_var(\"motor.left.target\", MOTOR_SPEED)\n",
    "                    robot.set_var(\"motor.right.target\", 2**16-MOTOR_SPEED)\n",
    "                elif (np.any(np.equal(obstacle_direction,SENSOR_3)))or(np.any(np.equal(obstacle_direction,SENSOR_4))):\n",
    "                    robot.set_var(\"motor.left.target\", 2**16-MOTOR_SPEED)\n",
    "                    robot.set_var(\"motor.right.target\", MOTOR_SPEED)\n",
    "                elif (np.any(np.equal(obstacle_direction,SENSOR_2))):\n",
    "                    robot.set_var(\"motor.left.target\", 2**16-MOTOR_SPEED)\n",
    "                    robot.set_var(\"motor.right.target\", MOTOR_SPEED)\n",
    "        \n",
    "            time.sleep(TIME_SLEEP_OBSTACLE)\n",
    "            \n",
    "            sensor_measurment = robot[\"prox.horizontal\"]\n",
    "            obstacle_direction = np.nonzero(sensor_measurment)[0]\n",
    "            \n",
    "    if (sensor_measurment[0] > 1000) or (sensor_measurment[4] > 1000) :\n",
    "        follow_obstacle = 1\n",
    "        iteration = 0\n",
    "    else : \n",
    "        iteration = iteration + 1\n",
    "        if iteration == COMPTEUR :\n",
    "            follow_obstacle = 0\n",
    "        \n",
    "    time.sleep(TIME_SLEEP_DATA)"
   ]
  },
  {
   "cell_type": "code",
   "execution_count": 71,
   "metadata": {},
   "outputs": [
    {
     "name": "stderr",
     "output_type": "stream",
     "text": [
      "Exception in thread Thread-15:\n",
      "Traceback (most recent call last):\n",
      "  File \"C:\\Users\\roxan\\Documents\\Applications\\Anaconda\\lib\\threading.py\", line 932, in _bootstrap_inner\n",
      "    self.run()\n",
      "  File \"C:\\Users\\roxan\\Documents\\Applications\\Anaconda\\lib\\threading.py\", line 870, in run\n",
      "    self._target(*self._args, **self._kwargs)\n",
      "  File \"C:\\Users\\roxan\\Documents\\EPFL_COURS\\Basics of mobile robotics\\Solutions_4\\Solutions\\src\\Thymio.py\", line 340, in do_refresh\n",
      "    self.get_variables()\n",
      "  File \"C:\\Users\\roxan\\Documents\\EPFL_COURS\\Basics of mobile robotics\\Solutions_4\\Solutions\\src\\Thymio.py\", line 499, in get_variables\n",
      "    self.send(msg)\n",
      "  File \"C:\\Users\\roxan\\Documents\\EPFL_COURS\\Basics of mobile robotics\\Solutions_4\\Solutions\\src\\Thymio.py\", line 456, in send\n",
      "    self.io.write(msg.serialize())\n",
      "  File \"C:\\Users\\roxan\\Documents\\Applications\\Anaconda\\lib\\site-packages\\serial\\serialwin32.py\", line 323, in write\n",
      "    raise writeTimeoutError\n",
      "  File \"C:\\Users\\roxan\\Documents\\Applications\\Anaconda\\lib\\threading.py\", line 932, in _bootstrap_inner\n",
      "    self.run()\n",
      "  File \"C:\\Users\\roxan\\Documents\\Applications\\Anaconda\\lib\\threading.py\", line 870, in run\n",
      "    self._target(*self._args, **self._kwargs)\n",
      "  File \"C:\\Users\\roxan\\Documents\\EPFL_COURS\\Basics of mobile robotics\\Solutions_4\\Solutions\\src\\Thymio.py\", line 340, in do_refresh\n",
      "    self.get_variables()\n",
      "  File \"C:\\Users\\roxan\\Documents\\EPFL_COURS\\Basics of mobile robotics\\Solutions_4\\Solutions\\src\\Thymio.py\", line 499, in get_variables\n",
      "    self.send(msg)\n",
      "  File \"C:\\Users\\roxan\\Documents\\EPFL_COURS\\Basics of mobile robotics\\Solutions_4\\Solutions\\src\\Thymio.py\", line 456, in send\n",
      "    self.io.write(msg.serialize())\n",
      "  File \"C:\\Users\\roxan\\Documents\\Applications\\Anaconda\\lib\\site-packages\\serial\\serialwin32.py\", line 323, in write\n",
      "    raise writeTimeoutError\n",
      "serial.serialutil.SerialTimeoutException: Write timeout\n"
     ]
    }
   ],
   "source": [
    "#for stopping the robot\n",
    "robot.set_var(\"motor.left.target\", 0)\n",
    "robot.set_var(\"motor.right.target\", 0)"
   ]
  },
  {
   "cell_type": "code",
   "execution_count": null,
   "metadata": {},
   "outputs": [],
   "source": []
  }
 ],
 "metadata": {
  "kernelspec": {
   "display_name": "Python 3",
   "language": "python",
   "name": "python3"
  },
  "language_info": {
   "codemirror_mode": {
    "name": "ipython",
    "version": 3
   },
   "file_extension": ".py",
   "mimetype": "text/x-python",
   "name": "python",
   "nbconvert_exporter": "python",
   "pygments_lexer": "ipython3",
   "version": "3.8.3"
  }
 },
 "nbformat": 4,
 "nbformat_minor": 4
}

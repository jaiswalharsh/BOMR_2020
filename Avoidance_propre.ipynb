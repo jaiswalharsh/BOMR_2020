{
 "cells": [
  {
   "cell_type": "markdown",
   "metadata": {},
   "source": [
    "# Python code"
   ]
  },
  {
   "cell_type": "markdown",
   "metadata": {},
   "source": [
    "## Imports"
   ]
  },
  {
   "cell_type": "code",
   "execution_count": 1,
   "metadata": {},
   "outputs": [],
   "source": [
    "import os\n",
    "import sys\n",
    "import time\n",
    "import serial\n",
    "import math\n",
    "import numpy as np\n",
    "\n",
    "# Adding the src folder in the current directory as it contains the script for Thymio and local occupancy\n",
    "sys.path.insert(0, os.path.join(os.getcwd(), 'src'))\n",
    "\n",
    "from Thymio import Thymio"
   ]
  },
  {
   "cell_type": "code",
   "execution_count": 2,
   "metadata": {},
   "outputs": [],
   "source": [
    "robot = Thymio.serial(port='COM3', refreshing_rate=0.1)"
   ]
  },
  {
   "cell_type": "markdown",
   "metadata": {},
   "source": [
    "## Variables globales"
   ]
  },
  {
   "cell_type": "code",
   "execution_count": 3,
   "metadata": {},
   "outputs": [],
   "source": [
    "PROXIMITY_THRESHOLD = 3800 #around 2cm\n",
    "TIME_SLEEP_OBSTACLE = 0.1 #in seconds\n",
    "TIME_SLEEP_DATA = 0.5 # 0.2 = 5Hz frequency\n",
    "MOTOR_SPEED = 80 #both motor are set with this value (one in each direction)\n",
    "\n",
    "SENSOR_0 = 0\n",
    "SENSOR_1 = 1\n",
    "SENSOR_2 = 2\n",
    "SENSOR_3 = 3\n",
    "SENSOR_4 = 4\n",
    "SENSOR_5 = 5\n",
    "SENSOR_6 = 6\n",
    "ALL_FRONT_SENSOR = 5\n",
    "PARTIALY_ALL_FRONT_SENSOR = 4\n",
    "COMPTEUR = 6\n",
    "DIST_WHEELS = 9.4"
   ]
  },
  {
   "cell_type": "markdown",
   "metadata": {},
   "source": [
    "## Functions"
   ]
  },
  {
   "cell_type": "code",
   "execution_count": null,
   "metadata": {},
   "outputs": [],
   "source": [
    "def set_course(target, x, y, alpha):\n",
    "    \n",
    "    dy = target[1] - y\n",
    "    dx = target[0] - x\n",
    "    alphatarg = np.arctan2(dy,dx)\n",
    "    dalpha = alphatarg - alpha\n",
    "    \n",
    "    print('delta ',dx,dy,dalpha)\n",
    "    \n",
    "    if  dalpha > 0.05 :\n",
    "        robot.set_var(\"motor.left.target\", int(2**16)-int(MOTOR_SPEED*dalpha))\n",
    "        robot.set_var(\"motor.right.target\", int(MOTOR_SPEED*dalpha)) \n",
    "    \n",
    "    elif dalpha < -0.05:\n",
    "        robot.set_var(\"motor.left.target\", int(MOTOR_SPEED*(-dalpha)))\n",
    "        robot.set_var(\"motor.right.target\", int(2**16)-int(MOTOR_SPEED*(-dalpha)))\n",
    "    \n",
    "    else:\n",
    "        robot.set_var(\"motor.left.target\", MOTOR_SPEED)\n",
    "        robot.set_var(\"motor.right.target\", MOTOR_SPEED) \n",
    "    return"
   ]
  },
  {
   "cell_type": "code",
   "execution_count": null,
   "metadata": {},
   "outputs": [],
   "source": [
    "def obstacle_avoidance(obstacle_direction,sensor_measurment):\n",
    "    if(np.shape(obstacle_direction)[0] == ALL_FRONT_SENSOR)or(np.shape(obstacle_direction)[0] == PARTIALY_ALL_FRONT_SENSOR):\n",
    "        if(sensor_measurment[SENSOR_1]>sensor_measurment[SENSOR_3]):\n",
    "            robot.set_var(\"motor.left.target\", MOTOR_SPEED)\n",
    "            robot.set_var(\"motor.right.target\", 2**16-MOTOR_SPEED)\n",
    "        else:\n",
    "            robot.set_var(\"motor.left.target\", 2**16-MOTOR_SPEED)\n",
    "            robot.set_var(\"motor.right.target\", MOTOR_SPEED)\n",
    "    else:\n",
    "        if (np.any(np.equal(obstacle_direction,SENSOR_0)))or(np.any(np.equal(obstacle_direction,SENSOR_1))):\n",
    "            robot.set_var(\"motor.left.target\", MOTOR_SPEED)\n",
    "            robot.set_var(\"motor.right.target\", 2**16-MOTOR_SPEED)\n",
    "        elif (np.any(np.equal(obstacle_direction,SENSOR_3)))or(np.any(np.equal(obstacle_direction,SENSOR_4))):\n",
    "            robot.set_var(\"motor.left.target\", 2**16-MOTOR_SPEED)\n",
    "            robot.set_var(\"motor.right.target\", MOTOR_SPEED)\n",
    "        elif (np.any(np.equal(obstacle_direction,SENSOR_2))):\n",
    "            robot.set_var(\"motor.left.target\", 2**16-MOTOR_SPEED)\n",
    "            robot.set_var(\"motor.right.target\", MOTOR_SPEED)\n",
    "    return"
   ]
  },
  {
   "cell_type": "code",
   "execution_count": null,
   "metadata": {},
   "outputs": [],
   "source": [
    "def go_to_goal(target_list):\n",
    "    target_reached =0\n",
    "    last_target_reached =0\n",
    "    follow_obstacle = 0\n",
    "    iteration = 0\n",
    "    id_target = 1\n",
    "    img = get_image()\n",
    "    (robot_pos, start, goal) = get_data(img)\n",
    "    x=robot_pos[0]\n",
    "    y=robot_pos[1]\n",
    "    alpha = robot_pos[2]\n",
    "    \n",
    "    while (not last_target_reached) :\n",
    "        target = target_list[id_target] \n",
    "        \n",
    "        if target_list[len(target_list)-1] != goal\n",
    "            return 0\n",
    "        \n",
    "        if follow_obstacle == 1 :\n",
    "            robot.set_var(\"motor.left.target\", MOTOR_SPEED)        \n",
    "            robot.set_var(\"motor.right.target\", MOTOR_SPEED)       \n",
    "        else :\n",
    "            set_course(target, x, y, alpha)\n",
    "\n",
    "        sensor_measurment = robot[\"prox.horizontal\"]\n",
    "\n",
    "        if np.all(np.less(sensor_measurment, PROXIMITY_THRESHOLD)):\n",
    "            pass\n",
    "        else:\n",
    "            obstacle_direction = np.nonzero(sensor_measurment)[0]\n",
    "            while((np.any(np.greater(sensor_measurment, PROXIMITY_THRESHOLD)))and(np.all(np.not_equal(obstacle_direction, SENSOR_5)))and(np.all(np.not_equal(obstacle_direction, SENSOR_6)))):\n",
    "                #robot.set_var('leds.top', 123)\n",
    "\n",
    "                obstacle_avoidance(obstacle_direction,sensor_measurment)\n",
    "\n",
    "                time.sleep(TIME_SLEEP_OBSTACLE)\n",
    "\n",
    "                sensor_measurment = robot[\"prox.horizontal\"]\n",
    "                obstacle_direction = np.nonzero(sensor_measurment)[0]\n",
    "                \n",
    "            id_target = id_target + 1\n",
    "            if id_target>len(target_list)-1:\n",
    "                id_target = len(target_list)-1\n",
    "            \n",
    "        if (sensor_measurment[0] > 1000) or (sensor_measurment[4] > 1000) :\n",
    "            follow_obstacle = 1\n",
    "            iteration = 0\n",
    "        else : \n",
    "            iteration = iteration + 1\n",
    "            if iteration == COMPTEUR :\n",
    "                follow_obstacle = 0\n",
    "            \n",
    "        time.sleep(TIME_SLEEP_DATA)\n",
    "        \n",
    "        img = get_image()\n",
    "        (robot_pos, start, goal) = get_data(img)\n",
    "        x=robot_pos[0]\n",
    "        y=robot_pos[1]\n",
    "        alpha = robot_pos[2]\n",
    "\n",
    "        if -0.75 < x-target[0] < 0.75 and -0.75 < y-target[1] < 0.75 :\n",
    "            target_reached = 1\n",
    "            print('coucou')\n",
    "            id_target = id_target+1\n",
    "            if id_target>len(target_list)-1:\n",
    "                id_target = len(target_list)-1\n",
    "            \n",
    "        if -1 < x-goal[0] < 1 and -1 < y-goal[1] < 1 :\n",
    "            last_target_reached = 1\n",
    "            robot.set_var(\"motor.left.target\", 0)\n",
    "            robot.set_var(\"motor.right.target\", 0) \n",
    "    return 1"
   ]
  },
  {
   "cell_type": "markdown",
   "metadata": {},
   "source": [
    "## Main"
   ]
  },
  {
   "cell_type": "code",
   "execution_count": 7,
   "metadata": {},
   "outputs": [
    {
     "ename": "NameError",
     "evalue": "name 'go_to_goal' is not defined",
     "output_type": "error",
     "traceback": [
      "\u001b[1;31m---------------------------------------------------------------------------\u001b[0m",
      "\u001b[1;31mNameError\u001b[0m                                 Traceback (most recent call last)",
      "\u001b[1;32m<ipython-input-7-adb24b86b340>\u001b[0m in \u001b[0;36m<module>\u001b[1;34m\u001b[0m\n\u001b[1;32m----> 1\u001b[1;33m \u001b[1;32mwhile\u001b[0m\u001b[1;33m(\u001b[0m\u001b[1;32mnot\u001b[0m\u001b[1;33m(\u001b[0m\u001b[0mgo_to_goal\u001b[0m\u001b[1;33m(\u001b[0m\u001b[0mpath\u001b[0m\u001b[1;33m)\u001b[0m\u001b[1;33m)\u001b[0m\u001b[1;33m)\u001b[0m\u001b[1;33m:\u001b[0m\u001b[1;33m\u001b[0m\u001b[1;33m\u001b[0m\u001b[0m\n\u001b[0m\u001b[0;32m      2\u001b[0m     \u001b[0mprint\u001b[0m\u001b[1;33m(\u001b[0m\u001b[1;34m'o0'\u001b[0m\u001b[1;33m)\u001b[0m\u001b[1;33m\u001b[0m\u001b[1;33m\u001b[0m\u001b[0m\n",
      "\u001b[1;31mNameError\u001b[0m: name 'go_to_goal' is not defined"
     ]
    }
   ],
   "source": [
    "while(not(go_to_goal(path))):\n",
    "    print('o0')"
   ]
  }
 ],
 "metadata": {
  "kernelspec": {
   "display_name": "Python 3",
   "language": "python",
   "name": "python3"
  },
  "language_info": {
   "codemirror_mode": {
    "name": "ipython",
    "version": 3
   },
   "file_extension": ".py",
   "mimetype": "text/x-python",
   "name": "python",
   "nbconvert_exporter": "python",
   "pygments_lexer": "ipython3",
   "version": "3.8.3"
  }
 },
 "nbformat": 4,
 "nbformat_minor": 4
}

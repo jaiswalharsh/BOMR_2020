{
 "cells": [
  {
   "cell_type": "markdown",
   "metadata": {},
   "source": [
    "The first thing of our global navigation need is to get the occupancy_grid through our vision functions. This would gives a us a grid with all the cells that the robot cannnot be over because they are occupied or too close to an occupied cell for Thymio's width. \n",
    "And for this, the first step is to take a picture of the start situation."
   ]
  },
  {
   "cell_type": "code",
   "execution_count": null,
   "metadata": {},
   "outputs": [],
   "source": [
    "# Get a picture of the map \n",
    "img, useable = get_image()"
   ]
  },
  {
   "cell_type": "markdown",
   "metadata": {},
   "source": [
    "When we do that, we need to make sure the camera wasn't obstructed and so we can have a valid grid. Otherwise our program won't work. Wether or not the camera was obstructed is in the useable boolean so we raise the following exception below"
   ]
  },
  {
   "cell_type": "code",
   "execution_count": null,
   "metadata": {},
   "outputs": [],
   "source": [
    "if(not(useable)):\n",
    "    raise Exception('Camera is obstructed')"
   ]
  },
  {
   "cell_type": "markdown",
   "metadata": {},
   "source": [
    "Once this is done, if to Exception were raised, then we can proceed to get the actual occupany_grid which will be 50 by 50 according to the global variables that we set up before."
   ]
  },
  {
   "cell_type": "code",
   "execution_count": null,
   "metadata": {},
   "outputs": [],
   "source": [
    "occupancy_grid = get_occupancy_grid(img)"
   ]
  },
  {
   "cell_type": "markdown",
   "metadata": {},
   "source": [
    "Once this is done, we want to obtain the robot's position as well as the goal's position and then run an astar algorithm in order to find the best path between them. This path is finally given to our motion control module which will follow the given path while avoiding not-anticipated local obstacles. The astar algorithm will be implemented using the ressources given in exercise 5.\n",
    "\n",
    "But in order to be able to detect a change of the goal's position that would mean the need of a new route and so a new application of the a star argument, we made sure our main motion control function(go_to_goal()) will return a true boolean if it achieved its purpose(reach the goal) or a false boolean if it has detected a change in the goal's position. And then we put this function in a while loop that makes sure everytime the go_to_goal function returns a false boolean, we get all the needed datas again and run a new astar algorithm with them. "
   ]
  },
  {
   "cell_type": "code",
   "execution_count": null,
   "metadata": {},
   "outputs": [],
   "source": [
    "#Set success as false as it hasn't reached the target at the beginning\n",
    "success = False\n",
    "\n",
    "#While the target is not reached\n",
    "while(not(success)):\n",
    "    # Get robot's and goal's new positions\n",
    "    time.sleep(2)\n",
    "    img, useable = get_image()\n",
    "    if(not(useable)):\n",
    "        raise Exception('Camera is obstructed')\n",
    "    (robot_pos, start, goal) = get_data(img)\n",
    "    # Find a new route\n",
    "    path, visitedNodes = findroute(start, goal, occupancy_grid)\n",
    "    # Plot everything concerning the route and astar algorithm execution\n",
    "    (fig_astar, ax_astar) = plot_map(visitedNodes, path, start, goal, occupancy_grid)\n",
    "    #Try to go to goal and see if goal's is reached(success=1) or if goal has moved(success=0)\n",
    "    success = go_to_goal(path, occupancy_grid,  fig_astar, ax_astar)"
   ]
  }
 ],
 "metadata": {
  "kernelspec": {
   "display_name": "Python 3",
   "language": "python",
   "name": "python3"
  },
  "language_info": {
   "codemirror_mode": {
    "name": "ipython",
    "version": 3
   },
   "file_extension": ".py",
   "mimetype": "text/x-python",
   "name": "python",
   "nbconvert_exporter": "python",
   "pygments_lexer": "ipython3",
   "version": "3.8.3"
  }
 },
 "nbformat": 4,
 "nbformat_minor": 4
}
